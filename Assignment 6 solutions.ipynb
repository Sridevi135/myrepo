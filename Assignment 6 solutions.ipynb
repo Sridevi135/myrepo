{
 "cells": [
  {
   "cell_type": "code",
   "execution_count": null,
   "id": "035e10ad",
   "metadata": {},
   "outputs": [],
   "source": [
    "1. What are escape characters, and how do you use them?"
   ]
  },
  {
   "cell_type": "code",
   "execution_count": null,
   "id": "955bd07c",
   "metadata": {},
   "outputs": [],
   "source": [
    "Answer: An escape character is a backslash \\ followed by the character we want to insert.\n",
    "    eg: \\r,\\t "
   ]
  },
  {
   "cell_type": "code",
   "execution_count": null,
   "id": "c55c25c2",
   "metadata": {},
   "outputs": [],
   "source": [
    "2. What do the escape characters n and t stand for?"
   ]
  },
  {
   "cell_type": "code",
   "execution_count": null,
   "id": "abf36fbe",
   "metadata": {},
   "outputs": [],
   "source": [
    "Answer: \\n=newline\n",
    "        \\t=tab"
   ]
  },
  {
   "cell_type": "code",
   "execution_count": null,
   "id": "6e5d6489",
   "metadata": {},
   "outputs": [],
   "source": [
    "3. What is the way to include backslash characters in a string?"
   ]
  },
  {
   "cell_type": "code",
   "execution_count": null,
   "id": "e006d8fc",
   "metadata": {},
   "outputs": [],
   "source": [
    "Answer: can use two backslash as one represents escape character and the other one will be printed."
   ]
  },
  {
   "cell_type": "code",
   "execution_count": null,
   "id": "6ecaab40",
   "metadata": {},
   "outputs": [],
   "source": [
    "4. The string \"Howl's Moving Castle\" is a correct value. Why isn't the single \n",
    "quote character in the word Howl's not escaped a problem?"
   ]
  },
  {
   "cell_type": "code",
   "execution_count": null,
   "id": "0c2a9302",
   "metadata": {},
   "outputs": [],
   "source": [
    "Anser: This is because we have used double quotes to mark the beginning and ending of the string."
   ]
  },
  {
   "cell_type": "code",
   "execution_count": null,
   "id": "3a914d71",
   "metadata": {},
   "outputs": [],
   "source": [
    "5. How do you write a string of newlines if you dont want to use the n character?"
   ]
  },
  {
   "cell_type": "code",
   "execution_count": null,
   "id": "8112a92e",
   "metadata": {},
   "outputs": [],
   "source": [
    "Answer: Can use multiline strings that starts and ends with three single quotes or three triple quotes."
   ]
  },
  {
   "cell_type": "code",
   "execution_count": null,
   "id": "694bd404",
   "metadata": {},
   "outputs": [],
   "source": [
    "6. What are the values of the given expressions?\n",
    "'Hello, world!'[1]\n",
    "'Hello, world!'[0:5]\n",
    "'Hello, world!'[:5]\n",
    "'Hello, world!'[3:]"
   ]
  },
  {
   "cell_type": "code",
   "execution_count": null,
   "id": "c21f673f",
   "metadata": {},
   "outputs": [],
   "source": [
    "Answer: 'e'\n",
    "        'Hello'\n",
    "        'Hello'\n",
    "        'lo, world!'"
   ]
  },
  {
   "cell_type": "code",
   "execution_count": null,
   "id": "40d1d2e2",
   "metadata": {},
   "outputs": [],
   "source": [
    "7. What are the values of the following expressions?\n",
    "'Hello'.upper()\n",
    "'Hello'.upper().isupper()\n",
    "'Hello'.upper().lower()"
   ]
  },
  {
   "cell_type": "code",
   "execution_count": null,
   "id": "65404f57",
   "metadata": {},
   "outputs": [],
   "source": [
    "Answer: 'HELLO'\n",
    "        TRUE\n",
    "        'hello'"
   ]
  },
  {
   "cell_type": "code",
   "execution_count": null,
   "id": "c6868479",
   "metadata": {},
   "outputs": [],
   "source": [
    "8. What are the values of the following expressions?\n",
    "'Remember, remember, the fifth of July.'.split()\n",
    "'-'.join('There can only one.'.split())"
   ]
  },
  {
   "cell_type": "code",
   "execution_count": 1,
   "id": "5586ac16",
   "metadata": {},
   "outputs": [
    {
     "data": {
      "text/plain": [
       "['Remember,', 'remember,', 'the', 'fifth', 'of', 'July.']"
      ]
     },
     "execution_count": 1,
     "metadata": {},
     "output_type": "execute_result"
    }
   ],
   "source": [
    "'Remember, remember, the fifth of July.'.split()"
   ]
  },
  {
   "cell_type": "code",
   "execution_count": 2,
   "id": "cbc4f2fc",
   "metadata": {},
   "outputs": [
    {
     "data": {
      "text/plain": [
       "'There-can-only-one.'"
      ]
     },
     "execution_count": 2,
     "metadata": {},
     "output_type": "execute_result"
    }
   ],
   "source": [
    "'-'.join('There can only one.'.split())"
   ]
  },
  {
   "cell_type": "code",
   "execution_count": null,
   "id": "753b9dcb",
   "metadata": {},
   "outputs": [],
   "source": [
    "9. What are the methods for right-justifying, left-justifying, and centering a string?"
   ]
  },
  {
   "cell_type": "code",
   "execution_count": null,
   "id": "31637c14",
   "metadata": {},
   "outputs": [],
   "source": [
    "Answer: we can use rjust(),ljust() and center()"
   ]
  },
  {
   "cell_type": "code",
   "execution_count": null,
   "id": "10209556",
   "metadata": {},
   "outputs": [],
   "source": [
    "10. What is the best way to remove whitespace characters from the start or end?"
   ]
  },
  {
   "cell_type": "code",
   "execution_count": null,
   "id": "7b5674c8",
   "metadata": {},
   "outputs": [],
   "source": [
    "Answer: we can use strip() function"
   ]
  }
 ],
 "metadata": {
  "kernelspec": {
   "display_name": "Python 3 (ipykernel)",
   "language": "python",
   "name": "python3"
  },
  "language_info": {
   "codemirror_mode": {
    "name": "ipython",
    "version": 3
   },
   "file_extension": ".py",
   "mimetype": "text/x-python",
   "name": "python",
   "nbconvert_exporter": "python",
   "pygments_lexer": "ipython3",
   "version": "3.9.12"
  }
 },
 "nbformat": 4,
 "nbformat_minor": 5
}
