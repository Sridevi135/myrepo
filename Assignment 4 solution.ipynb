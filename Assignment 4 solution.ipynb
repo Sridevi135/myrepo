{
 "cells": [
  {
   "cell_type": "markdown",
   "id": "f4e4e69b",
   "metadata": {},
   "source": [
    "1. What exactly is []?"
   ]
  },
  {
   "cell_type": "code",
   "execution_count": null,
   "id": "971179c4",
   "metadata": {},
   "outputs": [],
   "source": [
    "Answer: This is an empty list. It contains no items"
   ]
  },
  {
   "cell_type": "markdown",
   "id": "7cb80399",
   "metadata": {},
   "source": [
    "2. In a list of values stored in a variable called spam, how would you assign the value 'hello' as the third value? (Assume [2, 4, 6, 8, 10] are in spam.)"
   ]
  },
  {
   "cell_type": "code",
   "execution_count": 2,
   "id": "e1653df5",
   "metadata": {},
   "outputs": [],
   "source": [
    "spam=[2,4,6,8,10]"
   ]
  },
  {
   "cell_type": "code",
   "execution_count": 8,
   "id": "104cee4d",
   "metadata": {},
   "outputs": [],
   "source": [
    "spam[2]='hello'"
   ]
  },
  {
   "cell_type": "code",
   "execution_count": 9,
   "id": "637381f8",
   "metadata": {},
   "outputs": [
    {
     "data": {
      "text/plain": [
       "[2, 4, 'hello', 6, 8, 10]"
      ]
     },
     "execution_count": 9,
     "metadata": {},
     "output_type": "execute_result"
    }
   ],
   "source": [
    "spam"
   ]
  },
  {
   "cell_type": "markdown",
   "id": "1d54cd5e",
   "metadata": {},
   "source": [
    "3. What is the value of spam[int(int('3' * 2) / 11)]?"
   ]
  },
  {
   "cell_type": "code",
   "execution_count": 5,
   "id": "4a5c5d79",
   "metadata": {},
   "outputs": [],
   "source": [
    "spam=[2,4,6,8,10,'a','b','c','d']"
   ]
  },
  {
   "cell_type": "code",
   "execution_count": 6,
   "id": "b96bba19",
   "metadata": {},
   "outputs": [
    {
     "data": {
      "text/plain": [
       "8"
      ]
     },
     "execution_count": 6,
     "metadata": {},
     "output_type": "execute_result"
    }
   ],
   "source": [
    "spam[int(int('3' * 2)/11)]"
   ]
  },
  {
   "cell_type": "markdown",
   "id": "e1a24857",
   "metadata": {},
   "source": [
    "4. What is the value of spam[-1]?"
   ]
  },
  {
   "cell_type": "code",
   "execution_count": 24,
   "id": "1e00ceb3",
   "metadata": {},
   "outputs": [],
   "source": [
    "spam=[2,4,6,8,10,'a','b','c','d']"
   ]
  },
  {
   "cell_type": "code",
   "execution_count": 25,
   "id": "06835952",
   "metadata": {},
   "outputs": [
    {
     "data": {
      "text/plain": [
       "'d'"
      ]
     },
     "execution_count": 25,
     "metadata": {},
     "output_type": "execute_result"
    }
   ],
   "source": [
    "spam[-1]"
   ]
  },
  {
   "cell_type": "markdown",
   "id": "4065bc73",
   "metadata": {},
   "source": [
    "5. What is the value of spam[:2]?"
   ]
  },
  {
   "cell_type": "code",
   "execution_count": 31,
   "id": "4e0f9fb2",
   "metadata": {},
   "outputs": [
    {
     "data": {
      "text/plain": [
       "[2, 4]"
      ]
     },
     "execution_count": 31,
     "metadata": {},
     "output_type": "execute_result"
    }
   ],
   "source": [
    "spam[:2]"
   ]
  },
  {
   "cell_type": "markdown",
   "id": "c32e9cde",
   "metadata": {},
   "source": [
    "6. What is the value of bacon.index('cat')?"
   ]
  },
  {
   "cell_type": "code",
   "execution_count": 8,
   "id": "7b6c7ae1",
   "metadata": {},
   "outputs": [],
   "source": [
    "bacon=[3.14, 'cat', 11, 'cat',True]"
   ]
  },
  {
   "cell_type": "code",
   "execution_count": null,
   "id": "ae269f17",
   "metadata": {},
   "outputs": [],
   "source": [
    "Answer: value is 1"
   ]
  },
  {
   "cell_type": "markdown",
   "id": "4950daab",
   "metadata": {},
   "source": [
    "7. How does bacon.append(99) change the look of the list value in bacon?\n",
    "   Answer:This will add 99 in the last."
   ]
  },
  {
   "cell_type": "code",
   "execution_count": 39,
   "id": "ac2704f9",
   "metadata": {},
   "outputs": [],
   "source": [
    "bacon.append(99)"
   ]
  },
  {
   "cell_type": "code",
   "execution_count": 40,
   "id": "67be14d6",
   "metadata": {},
   "outputs": [
    {
     "data": {
      "text/plain": [
       "[3.14, 'cat', 11, 'cat', True, 99]"
      ]
     },
     "execution_count": 40,
     "metadata": {},
     "output_type": "execute_result"
    }
   ],
   "source": [
    "bacon"
   ]
  },
  {
   "cell_type": "code",
   "execution_count": null,
   "id": "c24ddfa0",
   "metadata": {},
   "outputs": [],
   "source": [
    "8. How does bacon.remove('cat') change the look of the list in bacon\n",
    "Answer: It removes cat from the first place, that is it removes from index 1"
   ]
  },
  {
   "cell_type": "code",
   "execution_count": 9,
   "id": "d4b17338",
   "metadata": {},
   "outputs": [],
   "source": [
    "bacon.remove('cat')"
   ]
  },
  {
   "cell_type": "code",
   "execution_count": 10,
   "id": "7e66d66a",
   "metadata": {},
   "outputs": [
    {
     "data": {
      "text/plain": [
       "[3.14, 11, 'cat', True]"
      ]
     },
     "execution_count": 10,
     "metadata": {},
     "output_type": "execute_result"
    }
   ],
   "source": [
    "bacon"
   ]
  },
  {
   "cell_type": "code",
   "execution_count": null,
   "id": "0b0039c0",
   "metadata": {},
   "outputs": [],
   "source": [
    "9. What are the list concatenation and list replication operators?"
   ]
  },
  {
   "cell_type": "code",
   "execution_count": null,
   "id": "536f7359",
   "metadata": {},
   "outputs": [],
   "source": [
    "Answer: The operator for list concatenation is + and the operator for list replication is *"
   ]
  },
  {
   "cell_type": "code",
   "execution_count": null,
   "id": "1d2f2cda",
   "metadata": {},
   "outputs": [],
   "source": [
    "10. What is difference between the list methods append() and insert()?"
   ]
  },
  {
   "cell_type": "code",
   "execution_count": null,
   "id": "31281173",
   "metadata": {},
   "outputs": [],
   "source": [
    "Answer: append() adds the value only to the end of a list \n",
    "        insert() adds them in the index number which we specify"
   ]
  },
  {
   "cell_type": "code",
   "execution_count": null,
   "id": "4ad44b62",
   "metadata": {},
   "outputs": [],
   "source": [
    "11. What are the two methods for removing items from a list?"
   ]
  },
  {
   "cell_type": "code",
   "execution_count": null,
   "id": "9786c139",
   "metadata": {},
   "outputs": [],
   "source": [
    "Answer: del and remove() are the two ways to remove items from a list"
   ]
  },
  {
   "cell_type": "code",
   "execution_count": null,
   "id": "6feb8d10",
   "metadata": {},
   "outputs": [],
   "source": [
    "12. Describe how list values and string values are identical."
   ]
  },
  {
   "cell_type": "code",
   "execution_count": null,
   "id": "2e09406b",
   "metadata": {},
   "outputs": [],
   "source": [
    "Answer: Both have access to indexes,can be sliced and can use len() function. The in and not in operator works on both. can\n",
    "    concatena and replicate both."
   ]
  },
  {
   "cell_type": "code",
   "execution_count": null,
   "id": "95359d0a",
   "metadata": {},
   "outputs": [],
   "source": [
    "13. What's the difference between tuples and lists?"
   ]
  },
  {
   "cell_type": "code",
   "execution_count": null,
   "id": "ba1aac72",
   "metadata": {},
   "outputs": [],
   "source": [
    "Answer: Lists are mutable but tuples are immutable.Tuples are written withen () while lists are written in []."
   ]
  },
  {
   "cell_type": "code",
   "execution_count": null,
   "id": "532657d6",
   "metadata": {},
   "outputs": [],
   "source": [
    "14. How do you type a tuple value that only contains the integer 42?"
   ]
  },
  {
   "cell_type": "code",
   "execution_count": 13,
   "id": "30425151",
   "metadata": {},
   "outputs": [],
   "source": [
    "t=(42,)"
   ]
  },
  {
   "cell_type": "code",
   "execution_count": 14,
   "id": "6f65b147",
   "metadata": {},
   "outputs": [
    {
     "data": {
      "text/plain": [
       "tuple"
      ]
     },
     "execution_count": 14,
     "metadata": {},
     "output_type": "execute_result"
    }
   ],
   "source": [
    "type(t)"
   ]
  },
  {
   "cell_type": "code",
   "execution_count": null,
   "id": "7bbef5b8",
   "metadata": {},
   "outputs": [],
   "source": [
    "15. How do you get a list value's tuple form? How do you get a tuple value's list form?"
   ]
  },
  {
   "cell_type": "code",
   "execution_count": null,
   "id": "c3472742",
   "metadata": {},
   "outputs": [],
   "source": [
    "Answer: If it is a list can enclose it within tuple() function. If it is a tuple can enclose it within list() function."
   ]
  },
  {
   "cell_type": "code",
   "execution_count": null,
   "id": "a4f3b7aa",
   "metadata": {},
   "outputs": [],
   "source": [
    "16. Variables that \"contain\" list values are not necessarily lists themselves. Instead, what do they contain?"
   ]
  },
  {
   "cell_type": "code",
   "execution_count": null,
   "id": "830ad4f1",
   "metadata": {},
   "outputs": [],
   "source": [
    "Answer: Contains references to list values."
   ]
  },
  {
   "cell_type": "code",
   "execution_count": null,
   "id": "572842db",
   "metadata": {},
   "outputs": [],
   "source": [
    "17. How do you distinguish between copy.copy() and copy.deepcopy()?"
   ]
  },
  {
   "cell_type": "code",
   "execution_count": null,
   "id": "6e1ed9e7",
   "metadata": {},
   "outputs": [],
   "source": [
    "Answer: The copy.copy() does a shallow copy of a list, while copy.deepcopy() does a deep copy. That is copy.deepcopy() will\n",
    "    duplicate any lists inside the list.\n",
    "    copy() create reference to original object. \n",
    "    If you change copied object - you change the original object. \n",
    "    deepcopy() creates new object and does real copying of original object to new one.\n",
    "    Changing new deepcopied object doesn't affect original object."
   ]
  }
 ],
 "metadata": {
  "kernelspec": {
   "display_name": "Python 3 (ipykernel)",
   "language": "python",
   "name": "python3"
  },
  "language_info": {
   "codemirror_mode": {
    "name": "ipython",
    "version": 3
   },
   "file_extension": ".py",
   "mimetype": "text/x-python",
   "name": "python",
   "nbconvert_exporter": "python",
   "pygments_lexer": "ipython3",
   "version": "3.9.12"
  }
 },
 "nbformat": 4,
 "nbformat_minor": 5
}
