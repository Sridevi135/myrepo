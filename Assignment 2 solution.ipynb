{
 "cells": [
  {
   "cell_type": "markdown",
   "id": "73743f66",
   "metadata": {},
   "source": [
    "1) What are the two values of the Boolean data type? How do you write them?"
   ]
  },
  {
   "cell_type": "code",
   "execution_count": null,
   "id": "2af28143",
   "metadata": {},
   "outputs": [],
   "source": [
    "Answer: The possible two values of boolean data type are True and False. In which True represents 1 and False represents 0.\n",
    "        In these two data types first letter would be in capital followed by lower cases."
   ]
  },
  {
   "cell_type": "markdown",
   "id": "43395179",
   "metadata": {},
   "source": [
    "2)  What are the three different types of Boolean operators?"
   ]
  },
  {
   "cell_type": "code",
   "execution_count": null,
   "id": "7e0ad5f3",
   "metadata": {},
   "outputs": [],
   "source": [
    "Answer: The three different types of boolean operators are and, or, not."
   ]
  },
  {
   "cell_type": "markdown",
   "id": "d3799c02",
   "metadata": {},
   "source": [
    "3) Make a list of each Boolean operator's truth tables (i.e. every possible combination of Boolean values for the operator and what it evaluate )."
   ]
  },
  {
   "cell_type": "code",
   "execution_count": null,
   "id": "b55ec248",
   "metadata": {},
   "outputs": [],
   "source": [
    "Answer: x and y: True True = True\n",
    "                 True False= False\n",
    "                 False True= True\n",
    "                 False False= False\n",
    "                    \n",
    "        x or y:  True True= True\n",
    "                 True False=True\n",
    "                 False True=True\n",
    "                 False False=False\n",
    "                \n",
    "        x not y: False =True\n",
    "                 True =False\n",
    "                 \n",
    "        "
   ]
  },
  {
   "cell_type": "markdown",
   "id": "feb55ae8",
   "metadata": {},
   "source": [
    "4) What are the values of the following expressions?\n",
    "(5 > 4) and (3 == 5)\n",
    "not (5 > 4)\n",
    "(5 > 4) or (3 == 5)\n",
    "not ((5 > 4) or (3 == 5))\n",
    "(True and True) and (True == False)\n",
    "(not False) or (not True)\n"
   ]
  },
  {
   "cell_type": "code",
   "execution_count": 1,
   "id": "b3e4fe6c",
   "metadata": {},
   "outputs": [
    {
     "data": {
      "text/plain": [
       "False"
      ]
     },
     "execution_count": 1,
     "metadata": {},
     "output_type": "execute_result"
    }
   ],
   "source": [
    " (5 > 4) and (3 == 5)"
   ]
  },
  {
   "cell_type": "code",
   "execution_count": 2,
   "id": "ba514edb",
   "metadata": {},
   "outputs": [
    {
     "data": {
      "text/plain": [
       "False"
      ]
     },
     "execution_count": 2,
     "metadata": {},
     "output_type": "execute_result"
    }
   ],
   "source": [
    "not (5 > 4)"
   ]
  },
  {
   "cell_type": "code",
   "execution_count": 3,
   "id": "a0703e97",
   "metadata": {},
   "outputs": [
    {
     "data": {
      "text/plain": [
       "True"
      ]
     },
     "execution_count": 3,
     "metadata": {},
     "output_type": "execute_result"
    }
   ],
   "source": [
    "(5 > 4) or (3 == 5)"
   ]
  },
  {
   "cell_type": "code",
   "execution_count": 4,
   "id": "1cd3e79b",
   "metadata": {},
   "outputs": [
    {
     "data": {
      "text/plain": [
       "False"
      ]
     },
     "execution_count": 4,
     "metadata": {},
     "output_type": "execute_result"
    }
   ],
   "source": [
    "not ((5 > 4) or (3 == 5))"
   ]
  },
  {
   "cell_type": "code",
   "execution_count": 5,
   "id": "362e9fff",
   "metadata": {},
   "outputs": [
    {
     "data": {
      "text/plain": [
       "False"
      ]
     },
     "execution_count": 5,
     "metadata": {},
     "output_type": "execute_result"
    }
   ],
   "source": [
    "(True and True) and (True == False)"
   ]
  },
  {
   "cell_type": "code",
   "execution_count": 6,
   "id": "7f53e065",
   "metadata": {},
   "outputs": [
    {
     "data": {
      "text/plain": [
       "True"
      ]
     },
     "execution_count": 6,
     "metadata": {},
     "output_type": "execute_result"
    }
   ],
   "source": [
    "(not False) or (not True)"
   ]
  },
  {
   "cell_type": "markdown",
   "id": "47b0662b",
   "metadata": {},
   "source": [
    "5) What are the six comparison operators?"
   ]
  },
  {
   "cell_type": "code",
   "execution_count": null,
   "id": "7d223d6e",
   "metadata": {},
   "outputs": [],
   "source": [
    "Answer: Less than(<)\n",
    "        Less than or equal to(<=)\n",
    "        Greater than(>)\n",
    "        Greater than or equal to(>=)\n",
    "        Equal to(==)\n",
    "        Not equal to(!=)"
   ]
  },
  {
   "cell_type": "markdown",
   "id": "678e72a3",
   "metadata": {},
   "source": [
    "6) How do you tell the difference between the equal to and assignment operators?Describe a condition and when you would use one."
   ]
  },
  {
   "cell_type": "code",
   "execution_count": null,
   "id": "614cd7e8",
   "metadata": {},
   "outputs": [],
   "source": [
    "Answer: = is an assignment operator which is used to assign a value to a variable but == is an operator which checks\n",
    "          whether the two operands are equal or not.\n",
    "For example:\n",
    "    a=10\n",
    "    b=20\n",
    "    a+b \n",
    "where = is an assignment operator\n",
    " \n",
    "Another example:\n",
    "    a=1\n",
    "    b=1\n",
    "    if a==b:\n",
    "        print('equal')\n",
    "in this case == is a comparison operator"
   ]
  },
  {
   "cell_type": "markdown",
   "id": "73dceeee",
   "metadata": {},
   "source": [
    "7) Identify the three blocks in this code:\n",
    "spam = 0\n",
    "if spam == 10:\n",
    "print('eggs')\n",
    "if spam > 5:\n",
    "print('bacon')\n",
    "else:\n",
    "print('ham')\n",
    "print('spam')\n",
    "print('spam')\n"
   ]
  },
  {
   "cell_type": "code",
   "execution_count": 9,
   "id": "ca943cd0",
   "metadata": {},
   "outputs": [
    {
     "name": "stdout",
     "output_type": "stream",
     "text": [
      "ham\n",
      "spam\n",
      "spam\n"
     ]
    }
   ],
   "source": [
    "spam = 0\n",
    "if spam == 10:\n",
    " print('eggs')\n",
    "if spam > 5:\n",
    " print('bacon')\n",
    "else:\n",
    " print('ham')\n",
    "print('spam')\n",
    "print('spam')\n"
   ]
  },
  {
   "cell_type": "code",
   "execution_count": null,
   "id": "dba8aeff",
   "metadata": {},
   "outputs": [],
   "source": [
    "Answer: The three blocks are everything inside the if statement. The line print('eggs'), print('bacon') and print('ham')\n",
    "        are the three blocks."
   ]
  },
  {
   "cell_type": "markdown",
   "id": "e1eaf87d",
   "metadata": {},
   "source": [
    "8) Write code that prints Hello if 1 is stored in spam, prints Howdy if 2 is stored in spam, and prints Greetings! if anything else is stored in spam."
   ]
  },
  {
   "cell_type": "code",
   "execution_count": 5,
   "id": "947b0506",
   "metadata": {},
   "outputs": [
    {
     "name": "stdout",
     "output_type": "stream",
     "text": [
      "enter spam:2\n",
      "Howdy\n"
     ]
    }
   ],
   "source": [
    "spam=int(input('enter spam:'))\n",
    "if spam==1:\n",
    "    print('Hello')\n",
    "elif spam==2:\n",
    "    print('Howdy')\n",
    "else:\n",
    "    print('Greetings!')"
   ]
  },
  {
   "cell_type": "markdown",
   "id": "10f504a7",
   "metadata": {},
   "source": [
    "9) If your programme is stuck in an endless loop, what keys you’ll press?"
   ]
  },
  {
   "cell_type": "code",
   "execution_count": null,
   "id": "08bb7147",
   "metadata": {},
   "outputs": [],
   "source": [
    "Answer: ctrl+c"
   ]
  },
  {
   "cell_type": "markdown",
   "id": "e551ee14",
   "metadata": {},
   "source": [
    "10) How can you tell the difference between break and continue?"
   ]
  },
  {
   "cell_type": "code",
   "execution_count": null,
   "id": "c8d9e2c1",
   "metadata": {},
   "outputs": [],
   "source": [
    "Answer: break statement stops the loop in the program. It eliminates the execution of remaining iterations of the loop.\n",
    "        continue statement instructs the loop to continue to the next iteration. It can be used to skip over part of a loop\n",
    "        when a condition is met.\n",
    "        "
   ]
  },
  {
   "cell_type": "markdown",
   "id": "88376054",
   "metadata": {},
   "source": [
    "11) In a for loop, what is the difference between range(10), range(0, 10), and range(0, 10, 1)?"
   ]
  },
  {
   "cell_type": "code",
   "execution_count": null,
   "id": "508a347d",
   "metadata": {},
   "outputs": [],
   "source": [
    "Answer:\n",
    "1)range(10) takes 10 as the lower bound and returns value from 0 to 9 in list format by omitting the lower bound which is 10.\n",
    "  Here upper bound is not present.\n",
    "2)range(0,10) assigns 0 as the upper bound and 10 as lower bound. This also acts same like the above range function and \n",
    "  returns value from 0 to 9.\n",
    "3)range(0,10,1) has 0 in place of upper bound, 10 in place of lower bound and indicates 1 as the step size. This also gives\n",
    "  the same result as above since even if we did not mention the step size it by default take it as 1. So the above three \n",
    "  gives the same result"
   ]
  },
  {
   "cell_type": "code",
   "execution_count": 5,
   "id": "92bed4ce",
   "metadata": {},
   "outputs": [
    {
     "data": {
      "text/plain": [
       "[0, 1, 2, 3, 4, 5, 6, 7, 8, 9]"
      ]
     },
     "execution_count": 5,
     "metadata": {},
     "output_type": "execute_result"
    }
   ],
   "source": [
    "list(range(10))"
   ]
  },
  {
   "cell_type": "code",
   "execution_count": 6,
   "id": "634c1793",
   "metadata": {},
   "outputs": [
    {
     "data": {
      "text/plain": [
       "[0, 1, 2, 3, 4, 5, 6, 7, 8, 9]"
      ]
     },
     "execution_count": 6,
     "metadata": {},
     "output_type": "execute_result"
    }
   ],
   "source": [
    "list(range(0,10))"
   ]
  },
  {
   "cell_type": "code",
   "execution_count": 7,
   "id": "a0de8ccb",
   "metadata": {},
   "outputs": [
    {
     "data": {
      "text/plain": [
       "[0, 1, 2, 3, 4, 5, 6, 7, 8, 9]"
      ]
     },
     "execution_count": 7,
     "metadata": {},
     "output_type": "execute_result"
    }
   ],
   "source": [
    "list(range(0,10,1))"
   ]
  },
  {
   "cell_type": "markdown",
   "id": "7b11835e",
   "metadata": {},
   "source": [
    "12) Write a short program that prints the numbers 1 to 10 using a for loop. Then write an equivalent program that prints the numbers 1 to 10 using a while loop."
   ]
  },
  {
   "cell_type": "code",
   "execution_count": 10,
   "id": "ad4cddf1",
   "metadata": {},
   "outputs": [
    {
     "name": "stdout",
     "output_type": "stream",
     "text": [
      "1\n",
      "2\n",
      "3\n",
      "4\n",
      "5\n",
      "6\n",
      "7\n",
      "8\n",
      "9\n",
      "10\n"
     ]
    }
   ],
   "source": [
    "for i in range(1,11):\n",
    "    print(i)\n"
   ]
  },
  {
   "cell_type": "code",
   "execution_count": 1,
   "id": "0d384866",
   "metadata": {},
   "outputs": [
    {
     "name": "stdout",
     "output_type": "stream",
     "text": [
      "1\n",
      "2\n",
      "3\n",
      "4\n",
      "5\n",
      "6\n",
      "7\n",
      "8\n",
      "9\n",
      "10\n"
     ]
    }
   ],
   "source": [
    "i=1\n",
    "while(i<=10):\n",
    "    print(i)\n",
    "    i+=1"
   ]
  },
  {
   "cell_type": "markdown",
   "id": "c7a5aca3",
   "metadata": {},
   "source": [
    "13) If you had a function named bacon() inside a module named spam, how would you call it after importing spam?\n"
   ]
  },
  {
   "cell_type": "code",
   "execution_count": null,
   "id": "d93e9aa9",
   "metadata": {},
   "outputs": [],
   "source": [
    "Answer: spam.bacon()"
   ]
  }
 ],
 "metadata": {
  "kernelspec": {
   "display_name": "Python 3 (ipykernel)",
   "language": "python",
   "name": "python3"
  },
  "language_info": {
   "codemirror_mode": {
    "name": "ipython",
    "version": 3
   },
   "file_extension": ".py",
   "mimetype": "text/x-python",
   "name": "python",
   "nbconvert_exporter": "python",
   "pygments_lexer": "ipython3",
   "version": "3.9.12"
  }
 },
 "nbformat": 4,
 "nbformat_minor": 5
}
