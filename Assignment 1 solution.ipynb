{
 "cells": [
  {
   "cell_type": "markdown",
   "id": "1dcabbe2",
   "metadata": {},
   "source": [
    "1) Which of them are values or an expression: "
   ]
  },
  {
   "cell_type": "markdown",
   "id": "db7c2839",
   "metadata": {},
   "source": [
    "Answer: Values: -87.8, 6, 'hello'\n",
    "        Expression: *,-,/,+"
   ]
  },
  {
   "cell_type": "markdown",
   "id": "a566f230",
   "metadata": {},
   "source": [
    "2) What is the difference between string and variable?"
   ]
  },
  {
   "cell_type": "markdown",
   "id": "d8134d7c",
   "metadata": {},
   "source": [
    "Answer: Strings are datas whic are stored by using a variable. It is denoted by \"\" or ''.\n",
    "        Variables are used to store datas. They can be used or recollected anywhere in the program. "
   ]
  },
  {
   "cell_type": "markdown",
   "id": "7b784187",
   "metadata": {},
   "source": [
    "3) Describe 3 different data types."
   ]
  },
  {
   "cell_type": "code",
   "execution_count": null,
   "id": "8833bfed",
   "metadata": {},
   "outputs": [],
   "source": [
    "Answer: Numeric data type: 1)This data type contains integer,float and complex numbers. Datas having numbers are called as numeric data \n",
    "                           type. Intergers are numbers like 2,44,65 etc..Float are decimal point numbers like 3.4,7.53. Complex numbers\n",
    "                           contain real and imaginary part like 5+3j.\n",
    "                           2)Dictionary is another data type which contains key value pair. It is denoted inside set bracket {}.\n",
    "                           For example: {34:'sri'}. Dictionaries are mutable and are indexed based on key value pair\n",
    "                           3)Set is another data type which contains a set of values. They will be of unordered format. Every time we \n",
    "                           run a set we get different arrangement of values. They are denoted inside {} only.A set is mutable, iterable\n",
    "                           does not contain duplicate elements.\n",
    "                           "
   ]
  },
  {
   "cell_type": "markdown",
   "id": "1e16a474",
   "metadata": {},
   "source": [
    "4) What is an expression made up of? What do all expressions do?"
   ]
  },
  {
   "cell_type": "code",
   "execution_count": null,
   "id": "0d4b1b9b",
   "metadata": {},
   "outputs": [],
   "source": [
    "Answer: Expression is a combination of operators and operands.operators are special symbols that are useful for doing computations\n",
    "        like addition, subtraction, multiplication, division and exponentiation . All expressions evaluate the given datas and\n",
    "        produce a result."
   ]
  },
  {
   "cell_type": "markdown",
   "id": "84a27f82",
   "metadata": {},
   "source": [
    "5) This assignment statement like spam=10. What is a difference between expression and statement"
   ]
  },
  {
   "cell_type": "code",
   "execution_count": null,
   "id": "118a3a31",
   "metadata": {},
   "outputs": [],
   "source": [
    "Answer: Expressions refer to a piece of code that can be evaluated to a value\n",
    "        example: 5>2,5+3\n",
    "        Statements refer to a piece of code that executes a specific instruction or completes a task.\n",
    "        example: x=20 is a statement"
   ]
  },
  {
   "cell_type": "markdown",
   "id": "ee0352ae",
   "metadata": {},
   "source": [
    "6) After running the code what does it become?\n",
    "              bacon=22\n",
    "              bacon+=1\n",
    "       \n",
    "       Answer:23"
   ]
  },
  {
   "cell_type": "code",
   "execution_count": 1,
   "id": "fd76baa6",
   "metadata": {},
   "outputs": [],
   "source": [
    "bacon=22\n",
    "bacon+=1"
   ]
  },
  {
   "cell_type": "code",
   "execution_count": 2,
   "id": "cb061a1d",
   "metadata": {},
   "outputs": [
    {
     "data": {
      "text/plain": [
       "23"
      ]
     },
     "execution_count": 2,
     "metadata": {},
     "output_type": "execute_result"
    }
   ],
   "source": [
    "bacon"
   ]
  },
  {
   "cell_type": "markdown",
   "id": "d314d1cd",
   "metadata": {},
   "source": [
    "7) What should the values of the following two terms be?\n",
    "        'spam'+'spamspam'\n",
    "        'spam'*3\n",
    "        \n",
    "        Answer:'spamspamspam' and 'spamspamsapm'"
   ]
  },
  {
   "cell_type": "code",
   "execution_count": 3,
   "id": "337caded",
   "metadata": {},
   "outputs": [
    {
     "data": {
      "text/plain": [
       "'spamspamspam'"
      ]
     },
     "execution_count": 3,
     "metadata": {},
     "output_type": "execute_result"
    }
   ],
   "source": [
    "'spam'+'spamspam'"
   ]
  },
  {
   "cell_type": "code",
   "execution_count": 4,
   "id": "06985063",
   "metadata": {},
   "outputs": [
    {
     "data": {
      "text/plain": [
       "'spamspamspam'"
      ]
     },
     "execution_count": 4,
     "metadata": {},
     "output_type": "execute_result"
    }
   ],
   "source": [
    "'spam'*3"
   ]
  },
  {
   "cell_type": "markdown",
   "id": "3ca2f640",
   "metadata": {},
   "source": [
    "8) Why is eggs a valid variable name but 100 is not?"
   ]
  },
  {
   "cell_type": "code",
   "execution_count": null,
   "id": "977cb255",
   "metadata": {},
   "outputs": [],
   "source": [
    "Answer: A variable name should start with a letter or underscore character but it should not start with number. That's why 100 \n",
    "        is invalid."
   ]
  },
  {
   "cell_type": "markdown",
   "id": "b931c846",
   "metadata": {},
   "source": [
    "9) What three functions can be used to get int, float, string value of a number?"
   ]
  },
  {
   "cell_type": "code",
   "execution_count": null,
   "id": "64ff2668",
   "metadata": {},
   "outputs": [],
   "source": [
    "Answer: To get a number in terms of integer we can use int() function. \n",
    "        To get a number in terms of float we can use float() function.\n",
    "        To get a number in terms of string we can use str().\n",
    "        By writing the number inside the paranthesis of the particular function the number will get converted to the desired format."
   ]
  },
  {
   "cell_type": "markdown",
   "id": "a2614670",
   "metadata": {},
   "source": [
    "10) Why this expression causes an error. how can we fix it?\n",
    "        'I have eaten'+99+'burritos'"
   ]
  },
  {
   "cell_type": "code",
   "execution_count": null,
   "id": "87be1e3b",
   "metadata": {},
   "outputs": [],
   "source": [
    "Answer: This expression shows error since we cannot concatenate only string to string and not string to integer, since 99 is an \n",
    "        integer."
   ]
  }
 ],
 "metadata": {
  "kernelspec": {
   "display_name": "Python 3 (ipykernel)",
   "language": "python",
   "name": "python3"
  },
  "language_info": {
   "codemirror_mode": {
    "name": "ipython",
    "version": 3
   },
   "file_extension": ".py",
   "mimetype": "text/x-python",
   "name": "python",
   "nbconvert_exporter": "python",
   "pygments_lexer": "ipython3",
   "version": "3.9.12"
  }
 },
 "nbformat": 4,
 "nbformat_minor": 5
}
