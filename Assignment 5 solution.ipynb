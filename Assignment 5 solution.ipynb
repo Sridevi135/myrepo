{
 "cells": [
  {
   "cell_type": "code",
   "execution_count": null,
   "id": "e96b7e96",
   "metadata": {},
   "outputs": [],
   "source": [
    "1. What does an empty dictionary's code look like?"
   ]
  },
  {
   "cell_type": "code",
   "execution_count": null,
   "id": "963ec4a0",
   "metadata": {},
   "outputs": [],
   "source": [
    "Answer: {} "
   ]
  },
  {
   "cell_type": "code",
   "execution_count": null,
   "id": "ec57e8e2",
   "metadata": {},
   "outputs": [],
   "source": [
    "2. What is the value of a dictionary value with the key 'foo' and the value 42?"
   ]
  },
  {
   "cell_type": "code",
   "execution_count": 1,
   "id": "f69f2b10",
   "metadata": {},
   "outputs": [],
   "source": [
    "d={'foo':42}"
   ]
  },
  {
   "cell_type": "code",
   "execution_count": 3,
   "id": "076ffa79",
   "metadata": {},
   "outputs": [
    {
     "data": {
      "text/plain": [
       "dict_values([42])"
      ]
     },
     "execution_count": 3,
     "metadata": {},
     "output_type": "execute_result"
    }
   ],
   "source": [
    "d.values()"
   ]
  },
  {
   "cell_type": "code",
   "execution_count": null,
   "id": "4c438240",
   "metadata": {},
   "outputs": [],
   "source": [
    "3. What is the most significant distinction between a dictionary and a list?"
   ]
  },
  {
   "cell_type": "code",
   "execution_count": null,
   "id": "0cdfbcfa",
   "metadata": {},
   "outputs": [],
   "source": [
    "Answer: Dictionaries are unordered but lists are ordered."
   ]
  },
  {
   "cell_type": "code",
   "execution_count": null,
   "id": "707c401c",
   "metadata": {},
   "outputs": [],
   "source": [
    "4. What happens if you try to access spam['foo'] if spam is {'bar': 100}?"
   ]
  },
  {
   "cell_type": "code",
   "execution_count": null,
   "id": "908ef50c",
   "metadata": {},
   "outputs": [],
   "source": [
    "Answer: KeyError occurs"
   ]
  },
  {
   "cell_type": "code",
   "execution_count": null,
   "id": "2882e871",
   "metadata": {},
   "outputs": [],
   "source": [
    "5. If a dictionary is stored in spam, what is the difference between the expressions 'cat' in spam and 'cat' in spam.keys()?"
   ]
  },
  {
   "cell_type": "code",
   "execution_count": null,
   "id": "0d924dbb",
   "metadata": {},
   "outputs": [],
   "source": [
    "Answer: 'cat' in spam returns either true or false depending on the presence of it in the key or not. Meanwhile spam.keys() check\n",
    "    whether cat is a key and returns the key."
   ]
  },
  {
   "cell_type": "code",
   "execution_count": 17,
   "id": "492399d4",
   "metadata": {},
   "outputs": [],
   "source": [
    "spam={'cat':'animal'}"
   ]
  },
  {
   "cell_type": "code",
   "execution_count": 9,
   "id": "30a1e33a",
   "metadata": {},
   "outputs": [
    {
     "data": {
      "text/plain": [
       "True"
      ]
     },
     "execution_count": 9,
     "metadata": {},
     "output_type": "execute_result"
    }
   ],
   "source": [
    "'cat' in spam"
   ]
  },
  {
   "cell_type": "code",
   "execution_count": 10,
   "id": "913cf1aa",
   "metadata": {},
   "outputs": [
    {
     "data": {
      "text/plain": [
       "dict_keys(['cat'])"
      ]
     },
     "execution_count": 10,
     "metadata": {},
     "output_type": "execute_result"
    }
   ],
   "source": [
    "spam.keys()"
   ]
  },
  {
   "cell_type": "code",
   "execution_count": null,
   "id": "9005327e",
   "metadata": {},
   "outputs": [],
   "source": [
    "6. If a dictionary is stored in spam, what is the difference between the expressions 'cat' in spam and 'cat' in spam.values()?"
   ]
  },
  {
   "cell_type": "code",
   "execution_count": null,
   "id": "56283853",
   "metadata": {},
   "outputs": [],
   "source": [
    "Answer:'cat' in spam checks whether there is a 'cat' key in the dictionary,while 'cat' in spam.values() check whether there is\n",
    "    a value 'cat' for one of the keys in spam. \n",
    "    "
   ]
  },
  {
   "cell_type": "code",
   "execution_count": null,
   "id": "15009551",
   "metadata": {},
   "outputs": [],
   "source": [
    "7. What is a shortcut for the following code?\n",
    "if 'color' not in spam:\n",
    "spam['color'] = 'black'"
   ]
  },
  {
   "cell_type": "code",
   "execution_count": 14,
   "id": "5bfe818e",
   "metadata": {},
   "outputs": [],
   "source": [
    "if 'color' not in spam:\n",
    "    spam['color'] = 'black'"
   ]
  },
  {
   "cell_type": "code",
   "execution_count": 18,
   "id": "4de50e83",
   "metadata": {},
   "outputs": [
    {
     "data": {
      "text/plain": [
       "'black'"
      ]
     },
     "execution_count": 18,
     "metadata": {},
     "output_type": "execute_result"
    }
   ],
   "source": [
    "spam.setdefault('color','black')"
   ]
  },
  {
   "cell_type": "code",
   "execution_count": 20,
   "id": "2c97ad17",
   "metadata": {},
   "outputs": [
    {
     "data": {
      "text/plain": [
       "{'cat': 'animal', 'color': 'black'}"
      ]
     },
     "execution_count": 20,
     "metadata": {},
     "output_type": "execute_result"
    }
   ],
   "source": [
    "spam"
   ]
  },
  {
   "cell_type": "code",
   "execution_count": null,
   "id": "181abdef",
   "metadata": {},
   "outputs": [],
   "source": [
    "8. How do you \"pretty print\" dictionary values using which module and function?"
   ]
  },
  {
   "cell_type": "code",
   "execution_count": null,
   "id": "4d2826e2",
   "metadata": {},
   "outputs": [],
   "source": [
    "Answer:\n",
    "pprint.pprint()\n",
    "Within the pprint module there is a function with the same name pprint() , which is the function used to pretty-print the \n",
    "given string or object."
   ]
  }
 ],
 "metadata": {
  "kernelspec": {
   "display_name": "Python 3 (ipykernel)",
   "language": "python",
   "name": "python3"
  },
  "language_info": {
   "codemirror_mode": {
    "name": "ipython",
    "version": 3
   },
   "file_extension": ".py",
   "mimetype": "text/x-python",
   "name": "python",
   "nbconvert_exporter": "python",
   "pygments_lexer": "ipython3",
   "version": "3.9.12"
  }
 },
 "nbformat": 4,
 "nbformat_minor": 5
}
