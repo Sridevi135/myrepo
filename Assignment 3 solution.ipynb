{
 "cells": [
  {
   "cell_type": "markdown",
   "id": "c4124b09",
   "metadata": {},
   "source": [
    "1. Why are functions advantageous to have in your programs?"
   ]
  },
  {
   "cell_type": "code",
   "execution_count": null,
   "id": "a4464744",
   "metadata": {},
   "outputs": [],
   "source": [
    "Answer: Function reduces the need of repeating the same code. By writing a code inside a function we can repeat the code\n",
    "        by just calling the function. The functions can be called n number of times.This makes the program short and simple."
   ]
  },
  {
   "cell_type": "markdown",
   "id": "7df6b712",
   "metadata": {},
   "source": [
    "2. When does the code in a function run: when it's specified or when it's called?"
   ]
  },
  {
   "cell_type": "code",
   "execution_count": null,
   "id": "3d8b3b11",
   "metadata": {},
   "outputs": [],
   "source": [
    "Answer: The code in a function runs when it is called only."
   ]
  },
  {
   "cell_type": "markdown",
   "id": "66544f9c",
   "metadata": {},
   "source": [
    "3. What statement creates a function?"
   ]
  },
  {
   "cell_type": "code",
   "execution_count": null,
   "id": "a5c64a91",
   "metadata": {},
   "outputs": [],
   "source": [
    "Answer: def statement creates a function"
   ]
  },
  {
   "cell_type": "markdown",
   "id": "b45de830",
   "metadata": {},
   "source": [
    "4. What is the difference between a function and a function call?"
   ]
  },
  {
   "cell_type": "code",
   "execution_count": null,
   "id": "a4c5f468",
   "metadata": {},
   "outputs": [],
   "source": [
    "Answer: A function consists of def statement and the code is written inside the function. A function call executes the \n",
    "        program and produces the result."
   ]
  },
  {
   "cell_type": "markdown",
   "id": "eef750d9",
   "metadata": {},
   "source": [
    "5. How many global scopes are there in a Python program? How many local scopes?"
   ]
  },
  {
   "cell_type": "code",
   "execution_count": null,
   "id": "861dd0c9",
   "metadata": {},
   "outputs": [],
   "source": [
    "Answer: There is one global scope. A variable created in the main body of the code before defining a function is called Global scope. Local scope is \n",
    "    a characteristic of a variable that makes them local, that is the variable can be used inside a function only."
   ]
  },
  {
   "cell_type": "markdown",
   "id": "fde36ad4",
   "metadata": {},
   "source": [
    "7. What is the concept of a return value? Is it possible to have a return value in an expression?"
   ]
  },
  {
   "cell_type": "code",
   "execution_count": null,
   "id": "b0589786",
   "metadata": {},
   "outputs": [],
   "source": [
    "Answer: The value a function returns to the caller is called return value. It can be used in expressions also."
   ]
  },
  {
   "cell_type": "markdown",
   "id": "cd26d506",
   "metadata": {},
   "source": [
    "8. If a function does not have a return statement, what is the return value of a call to that function?"
   ]
  },
  {
   "cell_type": "code",
   "execution_count": null,
   "id": "a042e560",
   "metadata": {},
   "outputs": [],
   "source": [
    "Answer: If the function does not have a return value then it returns value is None."
   ]
  },
  {
   "cell_type": "markdown",
   "id": "576cab95",
   "metadata": {},
   "source": [
    "9. How do you make a function variable refer to the global variable?"
   ]
  },
  {
   "cell_type": "code",
   "execution_count": null,
   "id": "e54446d9",
   "metadata": {},
   "outputs": [],
   "source": [
    "Answer: A global statement will make a variable in the function refer to the global variable."
   ]
  },
  {
   "cell_type": "markdown",
   "id": "d88c1a0b",
   "metadata": {},
   "source": [
    "10. What is the data type of None?"
   ]
  },
  {
   "cell_type": "code",
   "execution_count": null,
   "id": "7ece704e",
   "metadata": {},
   "outputs": [],
   "source": [
    "Answer: The data type of None is NoneType."
   ]
  },
  {
   "cell_type": "code",
   "execution_count": null,
   "id": "351f3e84",
   "metadata": {},
   "outputs": [],
   "source": [
    "11. What does the sentence import areallyourpetsnamederic do?"
   ]
  },
  {
   "cell_type": "code",
   "execution_count": null,
   "id": "0d13a072",
   "metadata": {},
   "outputs": [],
   "source": [
    "Answer: The import statement imports the module named areallyourpetsnamederic. "
   ]
  },
  {
   "cell_type": "markdown",
   "id": "0243cea4",
   "metadata": {},
   "source": [
    "12. If you had a bacon() feature in a spam module, what would you call it after importing spam?"
   ]
  },
  {
   "cell_type": "code",
   "execution_count": null,
   "id": "8426fd4e",
   "metadata": {},
   "outputs": [],
   "source": [
    "Answer: This can be called as spam.bacon()"
   ]
  },
  {
   "cell_type": "code",
   "execution_count": null,
   "id": "3af5974f",
   "metadata": {},
   "outputs": [],
   "source": [
    "13. What can you do to save a programme from crashing if it encounters an error?"
   ]
  },
  {
   "cell_type": "code",
   "execution_count": null,
   "id": "1b07934b",
   "metadata": {},
   "outputs": [],
   "source": [
    "Answer: We can place the piece of code inside try and except block."
   ]
  },
  {
   "cell_type": "markdown",
   "id": "4c0cf11f",
   "metadata": {},
   "source": [
    "14. What is the purpose of the try clause? What is the purpose of the except clause?"
   ]
  },
  {
   "cell_type": "code",
   "execution_count": null,
   "id": "749cee12",
   "metadata": {},
   "outputs": [],
   "source": [
    "Answer: The try block tests the block of code for any error and the except block lets us handle the error if occured."
   ]
  }
 ],
 "metadata": {
  "kernelspec": {
   "display_name": "Python 3 (ipykernel)",
   "language": "python",
   "name": "python3"
  },
  "language_info": {
   "codemirror_mode": {
    "name": "ipython",
    "version": 3
   },
   "file_extension": ".py",
   "mimetype": "text/x-python",
   "name": "python",
   "nbconvert_exporter": "python",
   "pygments_lexer": "ipython3",
   "version": "3.9.12"
  }
 },
 "nbformat": 4,
 "nbformat_minor": 5
}
